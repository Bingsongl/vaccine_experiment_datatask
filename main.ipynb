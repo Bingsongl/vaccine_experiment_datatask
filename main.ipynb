{
 "cells": [
  {
   "cell_type": "markdown",
   "metadata": {},
   "source": [
    "# Coding Task\n",
    "\n",
    "## Table of Contents\n",
    "- Generating the Dataset\n",
    "    - Generating the demographic information\n",
    "    - Generating the attitudes towards vaccination\n",
    "    - Generating the underlying social network\n",
    "    - Generating the treatment status\n",
    "    - Generating the outcome variable\n",
    "- Conducting the Analysis\n",
    "\n",
    "### Importing Needed libraries\n",
    "This notebook assumes that the working directory is the root of the project folder. Otherwise, change the directory using `os.chdir()`."
   ]
  },
  {
   "cell_type": "code",
   "execution_count": 3,
   "metadata": {},
   "outputs": [],
   "source": [
    "# Importing libraries\n",
    "import numpy as np\n",
    "import pandas as pd\n",
    "import networkx as nx\n",
    "from matplotlib import pyplot as plt\n",
    "\n",
    "\n",
    "# Set random seed for reproducibility\n",
    "np.random.seed(111)"
   ]
  },
  {
   "cell_type": "markdown",
   "metadata": {},
   "source": [
    "### Generating Demographic Information"
   ]
  },
  {
   "cell_type": "code",
   "execution_count": null,
   "metadata": {},
   "outputs": [],
   "source": [
    "# Initialize an empty dataframe with 5000 rows\n",
    "n = 5000 # number of samples to generate\n",
    "df = pd.DataFrame(index=range(n))\n",
    "\n",
    "# Generate demographic data\n",
    "df['demographic_age'] = np.round(np.random.uniform(21,80,n)).astype('int')\n",
    "df['demographic_income'] = (1 - np.random.power(2.5,n)) * 5000000\n",
    "df['demographic_education'] = np.round(np.random.uniform(0,3,n)).astype('int')\n",
    "df['demographic_unobs_grp'] = np.random.choice(['A','B','C','D','E'],n)\n",
    "\n",
    "demographic_cont_vars = ['demographic_age','demographic_income','demographic_education']\n",
    "demographic_cat_vars = 'demographic_unobs_grp'"
   ]
  },
  {
   "cell_type": "markdown",
   "metadata": {},
   "source": [
    "### Generating Attitudes Towards Vaccination"
   ]
  },
  {
   "cell_type": "code",
   "execution_count": null,
   "metadata": {},
   "outputs": [
    {
     "name": "stdout",
     "output_type": "stream",
     "text": [
      "(5000, 8)\n"
     ]
    },
    {
     "data": {
      "text/html": [
       "<div>\n",
       "<style scoped>\n",
       "    .dataframe tbody tr th:only-of-type {\n",
       "        vertical-align: middle;\n",
       "    }\n",
       "\n",
       "    .dataframe tbody tr th {\n",
       "        vertical-align: top;\n",
       "    }\n",
       "\n",
       "    .dataframe thead th {\n",
       "        text-align: right;\n",
       "    }\n",
       "</style>\n",
       "<table border=\"1\" class=\"dataframe\">\n",
       "  <thead>\n",
       "    <tr style=\"text-align: right;\">\n",
       "      <th></th>\n",
       "      <th>demographic_age</th>\n",
       "      <th>demographic_income</th>\n",
       "      <th>demographic_education</th>\n",
       "      <th>demographic_unobs_grp</th>\n",
       "      <th>att_covid</th>\n",
       "      <th>att_vaccine</th>\n",
       "      <th>att_safety</th>\n",
       "      <th>att_unobserved</th>\n",
       "    </tr>\n",
       "  </thead>\n",
       "  <tbody>\n",
       "    <tr>\n",
       "      <th>0</th>\n",
       "      <td>77</td>\n",
       "      <td>1.136473e+06</td>\n",
       "      <td>2</td>\n",
       "      <td>A</td>\n",
       "      <td>8</td>\n",
       "      <td>6</td>\n",
       "      <td>6</td>\n",
       "      <td>5</td>\n",
       "    </tr>\n",
       "  </tbody>\n",
       "</table>\n",
       "</div>"
      ],
      "text/plain": [
       "   demographic_age  demographic_income  demographic_education  \\\n",
       "0               77        1.136473e+06                      2   \n",
       "\n",
       "  demographic_unobs_grp  att_covid  att_vaccine  att_safety  att_unobserved  \n",
       "0                     A          8            6           6               5  "
      ]
     },
     "execution_count": 341,
     "metadata": {},
     "output_type": "execute_result"
    }
   ],
   "source": [
    "def generate_attitudes(df):\n",
    "    # Normalize continuous variables\n",
    "    this_df = df.copy(deep=True)\n",
    "    this_df[demographic_cont_vars] = this_df[demographic_cont_vars].apply(lambda x: x/x.max(), axis=0)\n",
    "\n",
    "    # Dummy categorical variables\n",
    "    this_df = pd.get_dummies(this_df,columns=[demographic_cat_vars],drop_first=False)\n",
    "\n",
    "    # Generate attitudes\n",
    "    global attitudes\n",
    "    attitudes = ['att_covid','att_vaccine','att_safety','att_unobserved']\n",
    "    demographics = list(this_df.columns)\n",
    "\n",
    "    for attitude in attitudes:\n",
    "        df[attitude] = np.random.choice(range(4,7),n) + np.random.normal(0,1,n)\n",
    "        for demographic in demographics: # Add influence of demographics\n",
    "            df[attitude] = df[attitude] + np.random.uniform(-0.25,0.25) * this_df[demographic]\n",
    "\n",
    "        # Handle values that are outside of max range (1-10)\n",
    "        df[attitude] = df[attitude].clip(1,10)\n",
    "\n",
    "        # Round\n",
    "        df[attitude] = np.round(df[attitude]).astype('int')\n",
    "    return df\n",
    "\n",
    "df = generate_attitudes(df)\n",
    "print(df.shape)\n",
    "df.head(1)"
   ]
  },
  {
   "cell_type": "markdown",
   "metadata": {},
   "source": [
    "### Generating Network Structure"
   ]
  },
  {
   "cell_type": "code",
   "execution_count": null,
   "metadata": {},
   "outputs": [],
   "source": [
    "# Implementing homophily\n",
    "\n",
    "\n",
    "\n",
    "def bb_network(N, m):\n",
    "    # 1. Start with a clique of m+1 nodes\n",
    "    G = nx.complete_graph(m + 1)\n",
    "\n",
    "    all_fitness = np.random.random(N) # generate 200 fitness values\n",
    "    for i in range(G.number_of_nodes(), N):\n",
    "        # 2. Select m different nodes at random, weighted by their fitness.\n",
    "        new_neighbors = []\n",
    "        possible_neighbors = list(G.nodes)\n",
    "        weight = [all_fitness[n] * G.degree(n) for n in possible_neighbors]\n",
    "        p = np.array(weight)/np.sum(np.array(weight))\n",
    "        new_neighbors = np.random.choice(possible_neighbors, size=m, replace=False, p=p)\n",
    "\n",
    "        # 3. Add a new node i and link it with the m nodes from the previous step.\n",
    "        for j in new_neighbors:\n",
    "            G.add_edge(i, j)\n",
    "\n",
    "    return G\n",
    "\n",
    "G = bb_network(5000,5)"
   ]
  }
 ],
 "metadata": {
  "kernelspec": {
   "display_name": "codetask",
   "language": "python",
   "name": "python3"
  },
  "language_info": {
   "codemirror_mode": {
    "name": "ipython",
    "version": 3
   },
   "file_extension": ".py",
   "mimetype": "text/x-python",
   "name": "python",
   "nbconvert_exporter": "python",
   "pygments_lexer": "ipython3",
   "version": "3.11.11"
  }
 },
 "nbformat": 4,
 "nbformat_minor": 2
}
